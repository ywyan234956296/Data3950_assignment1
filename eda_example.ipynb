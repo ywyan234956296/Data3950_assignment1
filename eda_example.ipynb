{
 "cells": [
  {
   "cell_type": "code",
   "execution_count": 73,
   "metadata": {},
   "outputs": [],
   "source": [
    "\n",
    "import pandas as pd\n",
    "import numpy as np\n",
    "import matplotlib.pyplot as plt\n",
    "import seaborn as sns\n",
    "import ipywidgets as widgets\n"
   ]
  },
  {
   "cell_type": "code",
   "execution_count": 1,
   "metadata": {},
   "outputs": [],
   "source": [
    "class EDA:\n",
    "    \"\"\"\n",
    "    A class used to perform common EDA tasks\n",
    "\n",
    "    ...\n",
    "\n",
    "    Attributes\n",
    "    ----------\n",
    "    data : dataframe\n",
    "        a dataframe on which the EDA will be performed\n",
    "    target : str\n",
    "        the name of the target column\n",
    "    cat : list\n",
    "        a list of the names of the categorical columns\n",
    "    num : list\n",
    "        a list of the names of the numerical columns\n",
    "\n",
    "    Methods\n",
    "    -------\n",
    "    display_head(self, n=5):\n",
    "        displays the first n rows of the dataset using the head method.\n",
    "    \n",
    "    summary_statistics(self):\n",
    "        print the summary statistics(mean,std,max,and min etc)\n",
    "    \n",
    "    missing_values(self):\n",
    "        prints the sum of missing values for each column    \n",
    "    \n",
    "    data_types(self):\n",
    "        prints the data types of each column \n",
    "    \n",
    "    def info(self):\n",
    "        find some basic information of the data\n",
    "    \n",
    "    setCat(catList)\n",
    "        sets the cat variable listing the categorical column names to the list provided in the argument catList\n",
    "        \n",
    "        Parameters\n",
    "        ----------\n",
    "        catlist : list\n",
    "            The list of column names that are categorical\n",
    "\n",
    "    setNum(numList)\n",
    "        sets the cat variable listing the categorical column names to the list provided in the argument catList\n",
    "        \n",
    "        Parameters\n",
    "        ----------\n",
    "        numlist : list\n",
    "            The list of column names that are numerical\n",
    "    numeric_alalysis(self,column):\n",
    "        plots a histogram of a numeric column using the hist method\n",
    "    \n",
    "    categorical_distribution(self, column, filter_threshold=None):\n",
    "        plots a count plot for a categorical column.\n",
    "    \n",
    "    bivariate_analysis_numeric(self, column1, column2):\n",
    "        plots a scatter plot between two numeric columns.\n",
    "\n",
    "    box_plot_outliers(self, column):\n",
    "        plots a box plot to visualize the distribution and identify potential outliers in a numeric column.\n",
    "    correlation_matrix(self):\n",
    "        plots a heatmap of the correlation matrix for all numeric columns\n",
    "    fullEDA()\n",
    "        Displays the full EDA process. \n",
    "\n",
    "    \"\"\"\n",
    "    def __init__(self,data,target):\n",
    "        self.data = data\n",
    "        self.target = target\n",
    "        self.cat = []\n",
    "        self.num = []\n",
    "    def display_head(self, n=10):\n",
    "        print(self.data.head(n))\n",
    "        #display the first 10 row of the data set\n",
    "    def summary_stats(self):\n",
    "        print(self.data.describe())\n",
    "        #find the summary statistics \n",
    "    def missing(self):\n",
    "        print(self.data.isnull().sum())\n",
    "        #find the missing value in data\n",
    "    def data_types(self):\n",
    "        print(self.data.dtypes)\n",
    "    \n",
    "    def info(self):\n",
    "        return self.data.info()\n",
    "\n",
    "    def giveTarget(self):\n",
    "        return self.target\n",
    "        \n",
    "    def setCat(self, catList):\n",
    "        self.cat = catList\n",
    "    \n",
    "    def setNum(self, numList):\n",
    "        self.num = numList\n",
    "    def numeric_alalysis(self,column):\n",
    "        plt.hist(self.data[column], bins=20, color='blue', aloha=0.7)\n",
    "        plt.title(f'Distribution of {column}')\n",
    "        plt.xlabel('Values')\n",
    "        plt.ylabel('Frequency')\n",
    "        plt.show()\n",
    "        #Plots a histogram of a numeric column\n",
    "    \n",
    "    def categorical_distribution(self, column, filter_threshold=None):\n",
    "        if filter_threshold is not None:\n",
    "            value_counts = self.data[column].value_counts()\n",
    "            filtered_value_counts = value_counts[value_counts > filter_threshold]\n",
    "            sns.barplot(x=filtered_value_counts.index, y=filtered_value_counts.values, palette=\"viridis\")\n",
    "            plt.title(f'Filtered Value Counts (Count > {filter_threshold}) of {column}')\n",
    "        else:\n",
    "            sns.countplot(self.data[column])\n",
    "            plt.title(f'Distribution of {column}')\n",
    "        plt.show()\n",
    "        #Plots a count plot for a categorical column\n",
    "    def bivariate_analysis_numeric(self, column1, column2):\n",
    "        plt.scatter(self.data[column1], self.data[column2])\n",
    "        plt.title(f'Scatter Plot between {column1} and {column2}')\n",
    "        plt.xlabel(column1)\n",
    "        plt.ylabel(column2)\n",
    "        plt.show()\n",
    "        #Plots a scatter plot between two numeric columns.\n",
    "    def box_plot_outliers(self, column):\n",
    "        sns.boxplot(self.data[column])\n",
    "        plt.title(f'Box Plot of {column}')\n",
    "        plt.show()\n",
    "        #Plots a box plot to visualize the distribution and identify potential outliers in a numeric column\n",
    "    \n",
    "    def correlation_matrix(self):\n",
    "        correlation_matrix = self.data.corr()\n",
    "        sns.heatmap(correlation_matrix, annot=True, cmap='coolwarm')\n",
    "        plt.title('Correlation Matrix')\n",
    "        plt.show()\n",
    "        #Plots a heatmap of the correlation matrix for all numeric columns \n",
    "    \n",
    "\n"
   ]
  },
  {
   "attachments": {},
   "cell_type": "markdown",
   "metadata": {},
   "source": [
    "## Exploratory Data Analysis\n",
    "\n",
    "This is an example of how we can use an external EDA class to automate some of the data exploration steps. \n",
    "\n",
    "A few points to note here:\n",
    "<ul>\n",
    "<li> Above, in the imports, there is a line to import \"ml_utils\", which is \"ml_utils.py\", the file we've made to contain our EDA class.\n",
    "<li> In that ml_utils.py file the actual EDA code is located.  \n",
    "<li> Below, we create an object of that EDA class (similarly to how we'd create an object of a LinearRegression() when making a model).\n",
    "<li> To do the EDA work, we call (\"ask\") the object we created to generate the EDA work that we've built into the class.\n",
    "</ul>"
   ]
  },
  {
   "cell_type": "code",
   "execution_count": 76,
   "metadata": {},
   "outputs": [
    {
     "data": {
      "text/html": [
       "<div>\n",
       "<style scoped>\n",
       "    .dataframe tbody tr th:only-of-type {\n",
       "        vertical-align: middle;\n",
       "    }\n",
       "\n",
       "    .dataframe tbody tr th {\n",
       "        vertical-align: top;\n",
       "    }\n",
       "\n",
       "    .dataframe thead th {\n",
       "        text-align: right;\n",
       "    }\n",
       "</style>\n",
       "<table border=\"1\" class=\"dataframe\">\n",
       "  <thead>\n",
       "    <tr style=\"text-align: right;\">\n",
       "      <th></th>\n",
       "      <th>Age</th>\n",
       "      <th>Sex</th>\n",
       "      <th>ChestPainType</th>\n",
       "      <th>RestingBP</th>\n",
       "      <th>Cholesterol</th>\n",
       "      <th>FastingBS</th>\n",
       "      <th>RestingECG</th>\n",
       "      <th>MaxHR</th>\n",
       "      <th>ExerciseAngina</th>\n",
       "      <th>Oldpeak</th>\n",
       "      <th>ST_Slope</th>\n",
       "      <th>HeartDisease</th>\n",
       "    </tr>\n",
       "  </thead>\n",
       "  <tbody>\n",
       "    <tr>\n",
       "      <th>0</th>\n",
       "      <td>40</td>\n",
       "      <td>M</td>\n",
       "      <td>ATA</td>\n",
       "      <td>140</td>\n",
       "      <td>289</td>\n",
       "      <td>0</td>\n",
       "      <td>Normal</td>\n",
       "      <td>172</td>\n",
       "      <td>N</td>\n",
       "      <td>0.0</td>\n",
       "      <td>Up</td>\n",
       "      <td>0</td>\n",
       "    </tr>\n",
       "    <tr>\n",
       "      <th>1</th>\n",
       "      <td>49</td>\n",
       "      <td>F</td>\n",
       "      <td>NAP</td>\n",
       "      <td>160</td>\n",
       "      <td>180</td>\n",
       "      <td>0</td>\n",
       "      <td>Normal</td>\n",
       "      <td>156</td>\n",
       "      <td>N</td>\n",
       "      <td>1.0</td>\n",
       "      <td>Flat</td>\n",
       "      <td>1</td>\n",
       "    </tr>\n",
       "    <tr>\n",
       "      <th>2</th>\n",
       "      <td>37</td>\n",
       "      <td>M</td>\n",
       "      <td>ATA</td>\n",
       "      <td>130</td>\n",
       "      <td>283</td>\n",
       "      <td>0</td>\n",
       "      <td>ST</td>\n",
       "      <td>98</td>\n",
       "      <td>N</td>\n",
       "      <td>0.0</td>\n",
       "      <td>Up</td>\n",
       "      <td>0</td>\n",
       "    </tr>\n",
       "    <tr>\n",
       "      <th>3</th>\n",
       "      <td>48</td>\n",
       "      <td>F</td>\n",
       "      <td>ASY</td>\n",
       "      <td>138</td>\n",
       "      <td>214</td>\n",
       "      <td>0</td>\n",
       "      <td>Normal</td>\n",
       "      <td>108</td>\n",
       "      <td>Y</td>\n",
       "      <td>1.5</td>\n",
       "      <td>Flat</td>\n",
       "      <td>1</td>\n",
       "    </tr>\n",
       "    <tr>\n",
       "      <th>4</th>\n",
       "      <td>54</td>\n",
       "      <td>M</td>\n",
       "      <td>NAP</td>\n",
       "      <td>150</td>\n",
       "      <td>195</td>\n",
       "      <td>0</td>\n",
       "      <td>Normal</td>\n",
       "      <td>122</td>\n",
       "      <td>N</td>\n",
       "      <td>0.0</td>\n",
       "      <td>Up</td>\n",
       "      <td>0</td>\n",
       "    </tr>\n",
       "  </tbody>\n",
       "</table>\n",
       "</div>"
      ],
      "text/plain": [
       "   Age Sex ChestPainType  RestingBP  Cholesterol  FastingBS RestingECG  MaxHR  \\\n",
       "0   40   M           ATA        140          289          0     Normal    172   \n",
       "1   49   F           NAP        160          180          0     Normal    156   \n",
       "2   37   M           ATA        130          283          0         ST     98   \n",
       "3   48   F           ASY        138          214          0     Normal    108   \n",
       "4   54   M           NAP        150          195          0     Normal    122   \n",
       "\n",
       "  ExerciseAngina  Oldpeak ST_Slope  HeartDisease  \n",
       "0              N      0.0       Up             0  \n",
       "1              N      1.0     Flat             1  \n",
       "2              N      0.0       Up             0  \n",
       "3              Y      1.5     Flat             1  \n",
       "4              N      0.0       Up             0  "
      ]
     },
     "execution_count": 76,
     "metadata": {},
     "output_type": "execute_result"
    }
   ],
   "source": [
    "df = pd.read_csv(\"heart.csv\")\n",
    "df.head()"
   ]
  },
  {
   "cell_type": "code",
   "execution_count": 77,
   "metadata": {},
   "outputs": [
    {
     "name": "stdout",
     "output_type": "stream",
     "text": [
      "<class 'pandas.core.frame.DataFrame'>\n",
      "RangeIndex: 918 entries, 0 to 917\n",
      "Data columns (total 12 columns):\n",
      " #   Column          Non-Null Count  Dtype  \n",
      "---  ------          --------------  -----  \n",
      " 0   Age             918 non-null    int64  \n",
      " 1   Sex             918 non-null    object \n",
      " 2   ChestPainType   918 non-null    object \n",
      " 3   RestingBP       918 non-null    int64  \n",
      " 4   Cholesterol     918 non-null    int64  \n",
      " 5   FastingBS       918 non-null    int64  \n",
      " 6   RestingECG      918 non-null    object \n",
      " 7   MaxHR           918 non-null    int64  \n",
      " 8   ExerciseAngina  918 non-null    object \n",
      " 9   Oldpeak         918 non-null    float64\n",
      " 10  ST_Slope        918 non-null    object \n",
      " 11  HeartDisease    918 non-null    int64  \n",
      "dtypes: float64(1), int64(6), object(5)\n",
      "memory usage: 86.2+ KB\n"
     ]
    }
   ],
   "source": [
    "df.info()"
   ]
  },
  {
   "attachments": {},
   "cell_type": "markdown",
   "metadata": {},
   "source": [
    "### Load External EDA Class\n",
    "\n",
    "We want to create an object here that we can call later. "
   ]
  },
  {
   "cell_type": "code",
   "execution_count": 78,
   "metadata": {},
   "outputs": [
    {
     "name": "stdout",
     "output_type": "stream",
     "text": [
      "HeartDisease\n"
     ]
    }
   ],
   "source": [
    "eda = EDA(df,'HeartDisease')\n",
    "print(eda.giveTarget())\n"
   ]
  },
  {
   "cell_type": "code",
   "execution_count": 91,
   "metadata": {},
   "outputs": [
    {
     "data": {
      "image/png": "[encoded data removed]",
      "text/plain": [
       "<Figure size 640x480 with 1 Axes>"
      ]
     },
     "metadata": {},
     "output_type": "display_data"
    }
   ],
   "source": [
    "eda.box_plot_outliers('MaxHR')"
   ]
  },
  {
   "attachments": {},
   "cell_type": "markdown",
   "metadata": {},
   "source": [
    "### Provide Configuration to the EDA Class"
   ]
  },
  {
   "cell_type": "code",
   "execution_count": 79,
   "metadata": {},
   "outputs": [
    {
     "name": "stderr",
     "output_type": "stream",
     "text": [
      "C:\\Users\\ywyan\\AppData\\Local\\Temp\\ipykernel_3272\\1636484008.py:91: UserWarning: Pandas doesn't allow columns to be created via a new attribute name - see https://pandas.pydata.org/pandas-docs/stable/indexing.html#attribute-access\n",
      "  self.cat = catList\n",
      "C:\\Users\\ywyan\\AppData\\Local\\Temp\\ipykernel_3272\\1636484008.py:94: UserWarning: Pandas doesn't allow columns to be created via a new attribute name - see https://pandas.pydata.org/pandas-docs/stable/indexing.html#attribute-access\n",
      "  self.num = numList\n"
     ]
    }
   ],
   "source": [
    "EDA.setCat(df,[\"Sex\", \"ChestPainType\", \"RestingECG\", \"ExerciseAngina\", \"ST_Slope\"])\n",
    "EDA.setNum(df,[\"Age\", \"RestingBP\", \"Cholesterol\", \"FastingBS\", \"MaxHR\", \"Oldpeak\"])"
   ]
  },
  {
   "cell_type": "code",
   "execution_count": null,
   "metadata": {},
   "outputs": [],
   "source": []
  },
  {
   "attachments": {},
   "cell_type": "markdown",
   "metadata": {},
   "source": [
    "### Perform EDA"
   ]
  },
  {
   "cell_type": "code",
   "execution_count": 89,
   "metadata": {},
   "outputs": [
    {
     "data": {
      "application/vnd.jupyter.widget-view+json": {
       "model_id": "ff9d5beba37b4ec6893b430997e61967",
       "version_major": 2,
       "version_minor": 0
      },
      "text/plain": [
       "Tab(children=(Output(), Output(), Output()), selected_index=0, titles=('Info', 'Categorical', 'Numerical'))"
      ]
     },
     "metadata": {},
     "output_type": "display_data"
    }
   ],
   "source": [
    "eda.fullEDA()"
   ]
  },
  {
   "cell_type": "markdown",
   "metadata": {},
   "source": [
    "## Create an EDA Class\n",
    "\n",
    "Your first task is to create your own EDA class, optionally based on the example code above. There isn't one correct answer or one specific set of features that your tool needs to do. The overall goal is to do as much of the EDA process as possible, with the least work required each time. Some things to consider:\n",
    "\n",
    "<ul>\n",
    "<li>How are different types of data represented and displayed?\n",
    "<li>What is important to know? E.g. outliers, correlations, distributions, etc...\n",
    "<li>How much customization is needed? Think about the Seaborn visualizations as an example, each chart has many options that we can optionally modify. E.g. pariplots can be useful, but can also take a long time to generate, would it be better if they were optional?\n",
    "<li>Code modularity - in general, breaking up large tasks into reusable pieces of code will be preferable. If/when you add to this later on, it'll be much easier. \n",
    "<li>Commenting - we'll comment this code in the correct manner. See the example for a pattern that should be enough to follow. Commenting is dull and boring, but generally very important; we leave it mainly to the coding class to cover proper comments, but we'll do it the 'proper' way here since we are creating a portable tool. If someone else was to use this, good comments allow them to make sense of it. \n",
    "</ul>\n",
    "\n",
    "The example code isn't comprehensive or definitive, the intent is to give a few examples of how to put things together (tabs, matplotlib figures, classes, etc). You can use whatever you want to put this together, it is also a good chance to build skills in reading documentation for the differnet libraries to adapt things to what you want. \n",
    "\n",
    "This tool will be peer evaluated - you'll each try out 3 other people's EDA tools and judge how useful they are and how easy they are to use. \n",
    "\n",
    "<h4>Utility File</h4>\n",
    "\n",
    "When creating this EDA class, place it in a regular python file, e.g. ml_utils.py. The python file is effectively just one big code cell and pretty much everything that you write should translate directly (there's a slight possibility you might need to adjust somehting, my sample worked as is. If so, Google the error, it is probably common, then ask me if you don't get it). This utility file can also stay with you and be built upon as we go forward; any common code that you use repeatedly can be built into a function in this file, then you can just import it (like thinkstats2 and thinkplot) to your notebook, and use those things without rewriting them. \n",
    "\n",
    "This approach is really common, when programming we want to make things into reusable functions almost as often as possible. It saves us work, allows us to not have to think about the same challenge repeatedly, makes it easy to make improvements, and reduces the probablity of making an error. As we go, add to it! \n",
    "\n",
    "\n",
    "For development purposes, use this function in the next part, predictions with trees. "
   ]
  }
 ],
 "metadata": {
  "kernelspec": {
   "display_name": "Python 3.9.7 ('ml3950')",
   "language": "python",
   "name": "python3"
  },
  "language_info": {
   "codemirror_mode": {
    "name": "ipython",
    "version": 3
   },
   "file_extension": ".py",
   "mimetype": "text/x-python",
   "name": "python",
   "nbconvert_exporter": "python",
   "pygments_lexer": "ipython3",
   "version": "3.11.5"
  },
  "orig_nbformat": 4,
  "vscode": {
   "interpreter": {
    "hash": "4d722d3adfa415172c1f5238b519fb86b488acdae450fd691ab06c09f4ca9173"
   }
  }
 },
 "nbformat": 4,
 "nbformat_minor": 2
}
